{
 "cells": [
  {
   "cell_type": "code",
   "execution_count": 1,
   "id": "17df3379-8c80-4106-a2ce-33c7423ee99f",
   "metadata": {},
   "outputs": [
    {
     "name": "stdout",
     "output_type": "stream",
     "text": [
      "Priority predicted: 2\n",
      "Task class predicted: 2\n"
     ]
    }
   ],
   "source": [
    "from joblib import load\n",
    "from scipy.sparse import hstack\n",
    "import numpy as np\n",
    "\n",
    "# Load models + vectorizers\n",
    "tfidf_xgb = load(\"tfidf_vectorizer_xgb.joblib\")\n",
    "xgb = load(\"xgb_priority.joblib\")\n",
    "\n",
    "tfidf_svm = load(\"tfidf_vectorizer_svm.joblib\")\n",
    "svm = load(\"model_svm.joblib\")\n",
    "\n",
    "# ---------- Priority Prediction ----------\n",
    "def predict_priority(title, description, numeric_feats):\n",
    "    text = (title + \". \" + description).lower()\n",
    "    text_vec = tfidf_xgb.transform([text])\n",
    "    X_in = hstack([text_vec, np.array([numeric_feats])])\n",
    "    pred = xgb.predict(X_in.toarray())\n",
    "    return int(pred[0])\n",
    "\n",
    "# ---------- Task Classification ----------\n",
    "def classify_task(title, description):\n",
    "    text = (title + \". \" + description).lower()\n",
    "    text_vec = tfidf_svm.transform([text])\n",
    "    pred = svm.predict(text_vec)\n",
    "    return int(pred[0])\n",
    "\n",
    "# ---------- Example ----------\n",
    "title = \"Fix login bug\"\n",
    "desc = \"Users cannot login via Google, 500 error returned.\"\n",
    "nums = [4, 20, 2.5, 3]  # workload_hours, completed_tasks, avg_days, due_days\n",
    "\n",
    "print(\"Priority predicted:\", predict_priority(title, desc, nums))\n",
    "print(\"Task class predicted:\", classify_task(title, desc))\n"
   ]
  },
  {
   "cell_type": "code",
   "execution_count": null,
   "id": "b919cd2a-f7a9-495d-918f-743c80ca5e02",
   "metadata": {},
   "outputs": [],
   "source": []
  }
 ],
 "metadata": {
  "kernelspec": {
   "display_name": "Python 3 (ipykernel)",
   "language": "python",
   "name": "python3"
  },
  "language_info": {
   "codemirror_mode": {
    "name": "ipython",
    "version": 3
   },
   "file_extension": ".py",
   "mimetype": "text/x-python",
   "name": "python",
   "nbconvert_exporter": "python",
   "pygments_lexer": "ipython3",
   "version": "3.11.4"
  },
  "widgets": {
   "application/vnd.jupyter.widget-state+json": {
    "state": {},
    "version_major": 2,
    "version_minor": 0
   }
  }
 },
 "nbformat": 4,
 "nbformat_minor": 5
}
