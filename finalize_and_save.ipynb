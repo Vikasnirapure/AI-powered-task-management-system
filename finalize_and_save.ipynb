{
 "cells": [
  {
   "cell_type": "code",
   "execution_count": 1,
   "id": "21d0f88f-ff2d-40cb-ab1c-8e75e3a74eaf",
   "metadata": {},
   "outputs": [
    {
     "name": "stdout",
     "output_type": "stream",
     "text": [
      "Saved metadata.\n"
     ]
    }
   ],
   "source": [
    "from joblib import dump, load\n",
    "# assume we chose XGBoost for priority and LinearSVC for classification\n",
    "# models already saved earlier: xgb_priority.joblib, model_svm.joblib, tfidf_for_priority.joblib\n",
    "# We'll save a metadata file for pipeline\n",
    "import json\n",
    "meta = {\n",
    "    \"text_vectorizer\": \"tfidf_for_priority.joblib\",\n",
    "    \"priority_model\": \"xgb_priority.joblib\",\n",
    "    \"task_classifier\": \"model_svm.joblib\",\n",
    "    \"created_on\": \"2025-10-11\"\n",
    "}\n",
    "with open(\"model_metadata.json\",\"w\") as f:\n",
    "    json.dump(meta, f, indent=2)\n",
    "print(\"Saved metadata.\")\n"
   ]
  },
  {
   "cell_type": "code",
   "execution_count": null,
   "id": "681c57af-67c7-4d3e-958b-bf131f4bf283",
   "metadata": {},
   "outputs": [],
   "source": []
  }
 ],
 "metadata": {
  "kernelspec": {
   "display_name": "Python 3 (ipykernel)",
   "language": "python",
   "name": "python3"
  },
  "language_info": {
   "codemirror_mode": {
    "name": "ipython",
    "version": 3
   },
   "file_extension": ".py",
   "mimetype": "text/x-python",
   "name": "python",
   "nbconvert_exporter": "python",
   "pygments_lexer": "ipython3",
   "version": "3.11.4"
  },
  "widgets": {
   "application/vnd.jupyter.widget-state+json": {
    "state": {},
    "version_major": 2,
    "version_minor": 0
   }
  }
 },
 "nbformat": 4,
 "nbformat_minor": 5
}
