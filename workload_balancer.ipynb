{
 "cells": [
  {
   "cell_type": "code",
   "execution_count": 1,
   "id": "7177a3ef-5d4b-42b3-961f-13c2977b7fab",
   "metadata": {},
   "outputs": [
    {
     "name": "stdout",
     "output_type": "stream",
     "text": [
      "Chosen assignee: charlie\n",
      "Scores: {'alice': 0.4600000416666632, 'bob': 0.5800000249999979, 'charlie': 0.6400000166666653, 'diana': 0.3200000499999959}\n"
     ]
    }
   ],
   "source": [
    "import pandas as pd\n",
    "import numpy as np\n",
    "\n",
    "# assume we have current users and their open workloads (in hours)\n",
    "users_status = {\n",
    "    'alice': {'open_hours': 10, 'expertise': 0.9},\n",
    "    'bob': {'open_hours': 6, 'expertise': 0.7},\n",
    "    'charlie': {'open_hours': 4, 'expertise': 0.6},\n",
    "    'diana': {'open_hours': 12, 'expertise': 0.8}\n",
    "}\n",
    "\n",
    "def assign_task_heu(task_workload_hours, candidates):\n",
    "    # score = alpha*(1 - normalized_open_hours) + beta*expertise\n",
    "    alpha = 0.6\n",
    "    beta = 0.4\n",
    "    max_open = max([c['open_hours'] for c in candidates.values()])\n",
    "    scores = {}\n",
    "    for user, data in candidates.items():\n",
    "        norm_open = data['open_hours'] / (max_open + 1e-6)\n",
    "        score = alpha*(1 - norm_open) + beta*data['expertise']\n",
    "        scores[user] = score\n",
    "    # choose user with highest score but also consider capacity threshold\n",
    "    chosen = max(scores, key=scores.get)\n",
    "    return chosen, scores\n",
    "\n",
    "task_hours = 4\n",
    "chosen, scores = assign_task_heu(task_hours, users_status)\n",
    "print(\"Chosen assignee:\", chosen)\n",
    "print(\"Scores:\", scores)\n"
   ]
  },
  {
   "cell_type": "code",
   "execution_count": null,
   "id": "f2072d50-6d40-42a9-b576-02ac88269d0f",
   "metadata": {},
   "outputs": [],
   "source": []
  },
  {
   "cell_type": "code",
   "execution_count": null,
   "id": "94aca4a2-b46e-478c-bb44-e35d35834980",
   "metadata": {},
   "outputs": [],
   "source": []
  }
 ],
 "metadata": {
  "kernelspec": {
   "display_name": "Python 3 (ipykernel)",
   "language": "python",
   "name": "python3"
  },
  "language_info": {
   "codemirror_mode": {
    "name": "ipython",
    "version": 3
   },
   "file_extension": ".py",
   "mimetype": "text/x-python",
   "name": "python",
   "nbconvert_exporter": "python",
   "pygments_lexer": "ipython3",
   "version": "3.11.4"
  },
  "widgets": {
   "application/vnd.jupyter.widget-state+json": {
    "state": {},
    "version_major": 2,
    "version_minor": 0
   }
  }
 },
 "nbformat": 4,
 "nbformat_minor": 5
}
