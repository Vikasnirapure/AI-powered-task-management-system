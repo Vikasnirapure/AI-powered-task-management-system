{
 "cells": [
  {
   "cell_type": "code",
   "execution_count": 2,
   "id": "b16e9836-3457-41c0-993f-855c5195acfe",
   "metadata": {},
   "outputs": [
    {
     "name": "stdout",
     "output_type": "stream",
     "text": [
      "Priority Model Accuracy: 1.0\n",
      "              precision    recall  f1-score   support\n",
      "\n",
      "           0       1.00      1.00      1.00       116\n",
      "           1       1.00      1.00      1.00        24\n",
      "           2       1.00      1.00      1.00        60\n",
      "\n",
      "    accuracy                           1.00       200\n",
      "   macro avg       1.00      1.00      1.00       200\n",
      "weighted avg       1.00      1.00      1.00       200\n",
      "\n",
      "✅ Priority model & vectorizer saved successfully.\n"
     ]
    }
   ],
   "source": [
    "import pandas as pd\n",
    "import numpy as np\n",
    "from sklearn.feature_extraction.text import TfidfVectorizer\n",
    "from scipy.sparse import hstack\n",
    "from sklearn.model_selection import train_test_split\n",
    "from xgboost import XGBClassifier\n",
    "from sklearn.metrics import classification_report, accuracy_score\n",
    "from joblib import dump\n",
    "\n",
    "# Load data\n",
    "df = pd.read_csv(\"tasks_preprocessed.csv\")\n",
    "\n",
    "# Combine title + description text (or lemmas if you have)\n",
    "texts = df[\"lemmas\"].fillna(\"\")\n",
    "\n",
    "# ✅ TF-IDF for XGB model\n",
    "tfidf_xgb = TfidfVectorizer(max_features=80, ngram_range=(1, 1))\n",
    "X_text = tfidf_xgb.fit_transform(texts)\n",
    "\n",
    "# ✅ Numeric features (change according to your dataset)\n",
    "numeric_cols = [\"workload_hours\", \"assignee_completed_tasks\", \"assignee_avg_completion_days\", \"days_to_due\"]\n",
    "X_num = df[numeric_cols].fillna(0).values\n",
    "\n",
    "# Combine text + numeric\n",
    "from scipy.sparse import hstack\n",
    "X = hstack([X_text, X_num])\n",
    "\n",
    "# Target variable\n",
    "y = df[\"priority\"]\n",
    "\n",
    "# Split\n",
    "X_train, X_test, y_train, y_test = train_test_split(X, y, test_size=0.2, random_state=42)\n",
    "\n",
    "# Train XGBoost\n",
    "xgb = XGBClassifier(n_estimators=100, max_depth=5, learning_rate=0.1, random_state=42)\n",
    "xgb.fit(X_train.toarray(), y_train)\n",
    "\n",
    "# Evaluate\n",
    "preds = xgb.predict(X_test.toarray())\n",
    "print(\"Priority Model Accuracy:\", accuracy_score(y_test, preds))\n",
    "print(classification_report(y_test, preds))\n",
    "\n",
    "# Save model + vectorizer\n",
    "dump(xgb, \"xgb_priority.joblib\")\n",
    "dump(tfidf_xgb, \"tfidf_vectorizer_xgb.joblib\")\n",
    "print(\"✅ Priority model & vectorizer saved successfully.\")\n"
   ]
  },
  {
   "cell_type": "code",
   "execution_count": null,
   "id": "72ba4349-1be3-4e59-8b0d-04b07d6458aa",
   "metadata": {},
   "outputs": [],
   "source": []
  }
 ],
 "metadata": {
  "kernelspec": {
   "display_name": "Python 3 (ipykernel)",
   "language": "python",
   "name": "python3"
  },
  "language_info": {
   "codemirror_mode": {
    "name": "ipython",
    "version": 3
   },
   "file_extension": ".py",
   "mimetype": "text/x-python",
   "name": "python",
   "nbconvert_exporter": "python",
   "pygments_lexer": "ipython3",
   "version": "3.11.4"
  },
  "widgets": {
   "application/vnd.jupyter.widget-state+json": {
    "state": {},
    "version_major": 2,
    "version_minor": 0
   }
  }
 },
 "nbformat": 4,
 "nbformat_minor": 5
}
