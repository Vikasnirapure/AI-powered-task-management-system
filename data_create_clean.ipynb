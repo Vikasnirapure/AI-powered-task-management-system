{
 "cells": [
  {
   "cell_type": "code",
   "execution_count": 43,
   "id": "fa966d04-671d-4509-ba82-741c250e0d3e",
   "metadata": {},
   "outputs": [
    {
     "name": "stdout",
     "output_type": "stream",
     "text": [
      "Saved tasks_synthetic.csv, shape: (1000, 12)\n"
     ]
    }
   ],
   "source": [
    "import pandas as pd\n",
    "import random\n",
    "from datetime import datetime, timedelta\n",
    "import numpy as np\n",
    "import matplotlib.pyplot as plt\n",
    "import seaborn as sns\n",
    "import nltk\n",
    "from nltk.tokenize import word_tokenize\n",
    "from nltk.corpus import stopwords\n",
    "from nltk.stem import PorterStemmer, WordNetLemmatizer\n",
    "import re\n",
    "\n",
    "random.seed(42)\n",
    "np.random.seed(42)\n",
    "\n",
    "users = ['alice','bob','charlie','diana']\n",
    "titles = [\n",
    "    \"Fix login bug\", \"Design landing page\", \"Prepare monthly report\",\n",
    "    \"Deploy microservice\", \"Update dependencies\", \"Customer email reply\",\n",
    "    \"Optimize DB queries\", \"Write unit tests\", \"Research new lib\", \"Plan sprint\"\n",
    "]\n",
    "descriptions = [\n",
    "    \"User cannot login with social auth. Error 500 observed on POST /auth.\",\n",
    "    \"Create responsive landing page for product X using Figma mockups.\",\n",
    "    \"Gather sales data and prepare report for stakeholders by Friday.\",\n",
    "    \"Deploy new service to production cluster and monitor for errors.\",\n",
    "    \"Update package.json dependencies and run compatibility tests.\",\n",
    "    \"Respond to important client email about billing dispute.\",\n",
    "    \"Optimize slow queries causing high CPU usage on replica DB.\",\n",
    "    \"Write unit tests for payment module to improve coverage.\",\n",
    "    \"Investigate new ML library for text embeddings and feasibility.\",\n",
    "    \"Plan sprint items and assign tasks to frontend/backend teams.\"\n",
    "]\n",
    "\n",
    "def rand_date(start, end):\n",
    "    diff = end - start\n",
    "    return start + timedelta(days=random.randint(0, diff.days))\n",
    "\n",
    "rows = []\n",
    "start = datetime.now() - timedelta(days=60)\n",
    "end = datetime.now() + timedelta(days=30)\n",
    "for i in range(1000):\n",
    "    title = random.choice(titles)\n",
    "    desc = random.choice(descriptions)\n",
    "    created = rand_date(start, datetime.now())\n",
    "    due = created + timedelta(days=random.randint(1, 20))\n",
    "    creator = random.choice(users)\n",
    "    assignee = random.choice(users)\n",
    "    # Priority synthetic label (0 low,1 medium,2 high) using heuristics\n",
    "    days_to_due = (due - created).days\n",
    "    if \"bug\" in title.lower() or \"deploy\" in title.lower():\n",
    "        priority = 2\n",
    "    elif days_to_due <= 3:\n",
    "        priority = 2\n",
    "    elif days_to_due <= 7:\n",
    "        priority = 1\n",
    "    else:\n",
    "        priority = 0\n",
    "    workload_hours = random.choice([1,2,3,4,6,8,12])\n",
    "    # user past behaviour features (synthetic)\n",
    "    user_completed = random.randint(5,200)\n",
    "    avg_completion_days = round(random.uniform(0.5,5.0),2)\n",
    "    rows.append({\n",
    "        \"task_id\": i+1,\n",
    "        \"title\": title,\n",
    "        \"description\": desc,\n",
    "        \"created_at\": created,\n",
    "        \"due_date\": due,\n",
    "        \"creator\": creator,\n",
    "        \"assignee\": assignee,\n",
    "        \"priority\": priority,\n",
    "        \"workload_hours\": workload_hours,\n",
    "        \"assignee_completed_tasks\": user_completed,\n",
    "        \"assignee_avg_completion_days\": avg_completion_days,\n",
    "        \"status\": random.choice([\"open\",\"in_progress\",\"done\"])\n",
    "    })\n",
    "\n",
    "df = pd.DataFrame(rows)\n",
    "df.to_csv(\"tasks_synthetic.csv\", index=False)\n",
    "print(\"Saved tasks_synthetic.csv, shape:\", df.shape)\n"
   ]
  },
  {
   "cell_type": "code",
   "execution_count": 28,
   "id": "ab10473c-4fbd-4195-9b72-a646504d9585",
   "metadata": {},
   "outputs": [],
   "source": [
    "df = pd.read_csv('tasks_synthetic.csv')"
   ]
  },
  {
   "cell_type": "code",
   "execution_count": 29,
   "id": "c65ab870-3c04-4105-b4bb-23b82996bca7",
   "metadata": {},
   "outputs": [
    {
     "data": {
      "text/html": [
       "<div>\n",
       "<style scoped>\n",
       "    .dataframe tbody tr th:only-of-type {\n",
       "        vertical-align: middle;\n",
       "    }\n",
       "\n",
       "    .dataframe tbody tr th {\n",
       "        vertical-align: top;\n",
       "    }\n",
       "\n",
       "    .dataframe thead th {\n",
       "        text-align: right;\n",
       "    }\n",
       "</style>\n",
       "<table border=\"1\" class=\"dataframe\">\n",
       "  <thead>\n",
       "    <tr style=\"text-align: right;\">\n",
       "      <th></th>\n",
       "      <th>task_id</th>\n",
       "      <th>title</th>\n",
       "      <th>description</th>\n",
       "      <th>created_at</th>\n",
       "      <th>due_date</th>\n",
       "      <th>creator</th>\n",
       "      <th>assignee</th>\n",
       "      <th>priority</th>\n",
       "      <th>workload_hours</th>\n",
       "      <th>assignee_completed_tasks</th>\n",
       "      <th>assignee_avg_completion_days</th>\n",
       "      <th>status</th>\n",
       "    </tr>\n",
       "  </thead>\n",
       "  <tbody>\n",
       "    <tr>\n",
       "      <th>0</th>\n",
       "      <td>1</td>\n",
       "      <td>Design landing page</td>\n",
       "      <td>User cannot login with social auth. Error 500 ...</td>\n",
       "      <td>2025-09-30 22:23:02.083979</td>\n",
       "      <td>2025-10-09 22:23:02.083979</td>\n",
       "      <td>bob</td>\n",
       "      <td>bob</td>\n",
       "      <td>0</td>\n",
       "      <td>2</td>\n",
       "      <td>193</td>\n",
       "      <td>0.96</td>\n",
       "      <td>done</td>\n",
       "    </tr>\n",
       "    <tr>\n",
       "      <th>1</th>\n",
       "      <td>2</td>\n",
       "      <td>Research new lib</td>\n",
       "      <td>Create responsive landing page for product X u...</td>\n",
       "      <td>2025-09-20 22:23:02.083979</td>\n",
       "      <td>2025-10-04 22:23:02.083979</td>\n",
       "      <td>alice</td>\n",
       "      <td>alice</td>\n",
       "      <td>0</td>\n",
       "      <td>1</td>\n",
       "      <td>60</td>\n",
       "      <td>1.55</td>\n",
       "      <td>done</td>\n",
       "    </tr>\n",
       "    <tr>\n",
       "      <th>2</th>\n",
       "      <td>3</td>\n",
       "      <td>Fix login bug</td>\n",
       "      <td>Investigate new ML library for text embeddings...</td>\n",
       "      <td>2025-08-26 22:23:02.083979</td>\n",
       "      <td>2025-09-13 22:23:02.083979</td>\n",
       "      <td>diana</td>\n",
       "      <td>bob</td>\n",
       "      <td>2</td>\n",
       "      <td>4</td>\n",
       "      <td>155</td>\n",
       "      <td>1.75</td>\n",
       "      <td>open</td>\n",
       "    </tr>\n",
       "    <tr>\n",
       "      <th>3</th>\n",
       "      <td>4</td>\n",
       "      <td>Prepare monthly report</td>\n",
       "      <td>Optimize slow queries causing high CPU usage o...</td>\n",
       "      <td>2025-09-04 22:23:02.083979</td>\n",
       "      <td>2025-09-13 22:23:02.083979</td>\n",
       "      <td>bob</td>\n",
       "      <td>bob</td>\n",
       "      <td>0</td>\n",
       "      <td>12</td>\n",
       "      <td>91</td>\n",
       "      <td>0.96</td>\n",
       "      <td>in_progress</td>\n",
       "    </tr>\n",
       "    <tr>\n",
       "      <th>4</th>\n",
       "      <td>5</td>\n",
       "      <td>Design landing page</td>\n",
       "      <td>Respond to important client email about billin...</td>\n",
       "      <td>2025-10-07 22:23:02.083979</td>\n",
       "      <td>2025-10-19 22:23:02.083979</td>\n",
       "      <td>charlie</td>\n",
       "      <td>alice</td>\n",
       "      <td>0</td>\n",
       "      <td>8</td>\n",
       "      <td>122</td>\n",
       "      <td>2.91</td>\n",
       "      <td>in_progress</td>\n",
       "    </tr>\n",
       "  </tbody>\n",
       "</table>\n",
       "</div>"
      ],
      "text/plain": [
       "   task_id                   title  \\\n",
       "0        1     Design landing page   \n",
       "1        2        Research new lib   \n",
       "2        3           Fix login bug   \n",
       "3        4  Prepare monthly report   \n",
       "4        5     Design landing page   \n",
       "\n",
       "                                         description  \\\n",
       "0  User cannot login with social auth. Error 500 ...   \n",
       "1  Create responsive landing page for product X u...   \n",
       "2  Investigate new ML library for text embeddings...   \n",
       "3  Optimize slow queries causing high CPU usage o...   \n",
       "4  Respond to important client email about billin...   \n",
       "\n",
       "                   created_at                    due_date  creator assignee  \\\n",
       "0  2025-09-30 22:23:02.083979  2025-10-09 22:23:02.083979      bob      bob   \n",
       "1  2025-09-20 22:23:02.083979  2025-10-04 22:23:02.083979    alice    alice   \n",
       "2  2025-08-26 22:23:02.083979  2025-09-13 22:23:02.083979    diana      bob   \n",
       "3  2025-09-04 22:23:02.083979  2025-09-13 22:23:02.083979      bob      bob   \n",
       "4  2025-10-07 22:23:02.083979  2025-10-19 22:23:02.083979  charlie    alice   \n",
       "\n",
       "   priority  workload_hours  assignee_completed_tasks  \\\n",
       "0         0               2                       193   \n",
       "1         0               1                        60   \n",
       "2         2               4                       155   \n",
       "3         0              12                        91   \n",
       "4         0               8                       122   \n",
       "\n",
       "   assignee_avg_completion_days       status  \n",
       "0                          0.96         done  \n",
       "1                          1.55         done  \n",
       "2                          1.75         open  \n",
       "3                          0.96  in_progress  \n",
       "4                          2.91  in_progress  "
      ]
     },
     "execution_count": 29,
     "metadata": {},
     "output_type": "execute_result"
    }
   ],
   "source": [
    "df.head()\n"
   ]
  },
  {
   "cell_type": "code",
   "execution_count": 31,
   "id": "7e57b4d3-63eb-46a1-9cbc-a0650ee45ad6",
   "metadata": {},
   "outputs": [
    {
     "data": {
      "text/plain": [
       "(1000, 12)"
      ]
     },
     "execution_count": 31,
     "metadata": {},
     "output_type": "execute_result"
    }
   ],
   "source": [
    "df.shape"
   ]
  },
  {
   "cell_type": "code",
   "execution_count": 32,
   "id": "66ffb992-375c-4960-a039-8d3536bfcc77",
   "metadata": {},
   "outputs": [
    {
     "name": "stdout",
     "output_type": "stream",
     "text": [
      "<class 'pandas.core.frame.DataFrame'>\n",
      "RangeIndex: 1000 entries, 0 to 999\n",
      "Data columns (total 12 columns):\n",
      " #   Column                        Non-Null Count  Dtype  \n",
      "---  ------                        --------------  -----  \n",
      " 0   task_id                       1000 non-null   int64  \n",
      " 1   title                         1000 non-null   object \n",
      " 2   description                   1000 non-null   object \n",
      " 3   created_at                    1000 non-null   object \n",
      " 4   due_date                      1000 non-null   object \n",
      " 5   creator                       1000 non-null   object \n",
      " 6   assignee                      1000 non-null   object \n",
      " 7   priority                      1000 non-null   int64  \n",
      " 8   workload_hours                1000 non-null   int64  \n",
      " 9   assignee_completed_tasks      1000 non-null   int64  \n",
      " 10  assignee_avg_completion_days  1000 non-null   float64\n",
      " 11  status                        1000 non-null   object \n",
      "dtypes: float64(1), int64(4), object(7)\n",
      "memory usage: 93.9+ KB\n"
     ]
    }
   ],
   "source": [
    "df.info()"
   ]
  },
  {
   "cell_type": "code",
   "execution_count": 33,
   "id": "748ee65e-85d4-41c4-8297-ed6113f8afdd",
   "metadata": {},
   "outputs": [
    {
     "data": {
      "text/plain": [
       "0"
      ]
     },
     "execution_count": 33,
     "metadata": {},
     "output_type": "execute_result"
    }
   ],
   "source": [
    "df.duplicated().sum()"
   ]
  },
  {
   "cell_type": "code",
   "execution_count": 34,
   "id": "a8ffa7e6-129a-40ef-91fd-62059dbc438e",
   "metadata": {},
   "outputs": [
    {
     "data": {
      "text/html": [
       "<div>\n",
       "<style scoped>\n",
       "    .dataframe tbody tr th:only-of-type {\n",
       "        vertical-align: middle;\n",
       "    }\n",
       "\n",
       "    .dataframe tbody tr th {\n",
       "        vertical-align: top;\n",
       "    }\n",
       "\n",
       "    .dataframe thead th {\n",
       "        text-align: right;\n",
       "    }\n",
       "</style>\n",
       "<table border=\"1\" class=\"dataframe\">\n",
       "  <thead>\n",
       "    <tr style=\"text-align: right;\">\n",
       "      <th></th>\n",
       "      <th>task_id</th>\n",
       "      <th>priority</th>\n",
       "      <th>workload_hours</th>\n",
       "      <th>assignee_completed_tasks</th>\n",
       "      <th>assignee_avg_completion_days</th>\n",
       "    </tr>\n",
       "  </thead>\n",
       "  <tbody>\n",
       "    <tr>\n",
       "      <th>count</th>\n",
       "      <td>1000.000000</td>\n",
       "      <td>1000.000000</td>\n",
       "      <td>1000.000000</td>\n",
       "      <td>1000.000000</td>\n",
       "      <td>1000.000000</td>\n",
       "    </tr>\n",
       "    <tr>\n",
       "      <th>mean</th>\n",
       "      <td>500.500000</td>\n",
       "      <td>0.722000</td>\n",
       "      <td>5.322000</td>\n",
       "      <td>102.865000</td>\n",
       "      <td>2.719380</td>\n",
       "    </tr>\n",
       "    <tr>\n",
       "      <th>std</th>\n",
       "      <td>288.819436</td>\n",
       "      <td>0.881756</td>\n",
       "      <td>3.650705</td>\n",
       "      <td>56.331306</td>\n",
       "      <td>1.293874</td>\n",
       "    </tr>\n",
       "    <tr>\n",
       "      <th>min</th>\n",
       "      <td>1.000000</td>\n",
       "      <td>0.000000</td>\n",
       "      <td>1.000000</td>\n",
       "      <td>5.000000</td>\n",
       "      <td>0.500000</td>\n",
       "    </tr>\n",
       "    <tr>\n",
       "      <th>25%</th>\n",
       "      <td>250.750000</td>\n",
       "      <td>0.000000</td>\n",
       "      <td>2.000000</td>\n",
       "      <td>53.000000</td>\n",
       "      <td>1.570000</td>\n",
       "    </tr>\n",
       "    <tr>\n",
       "      <th>50%</th>\n",
       "      <td>500.500000</td>\n",
       "      <td>0.000000</td>\n",
       "      <td>4.000000</td>\n",
       "      <td>107.000000</td>\n",
       "      <td>2.720000</td>\n",
       "    </tr>\n",
       "    <tr>\n",
       "      <th>75%</th>\n",
       "      <td>750.250000</td>\n",
       "      <td>2.000000</td>\n",
       "      <td>8.000000</td>\n",
       "      <td>150.250000</td>\n",
       "      <td>3.820000</td>\n",
       "    </tr>\n",
       "    <tr>\n",
       "      <th>max</th>\n",
       "      <td>1000.000000</td>\n",
       "      <td>2.000000</td>\n",
       "      <td>12.000000</td>\n",
       "      <td>200.000000</td>\n",
       "      <td>4.990000</td>\n",
       "    </tr>\n",
       "  </tbody>\n",
       "</table>\n",
       "</div>"
      ],
      "text/plain": [
       "           task_id     priority  workload_hours  assignee_completed_tasks  \\\n",
       "count  1000.000000  1000.000000     1000.000000               1000.000000   \n",
       "mean    500.500000     0.722000        5.322000                102.865000   \n",
       "std     288.819436     0.881756        3.650705                 56.331306   \n",
       "min       1.000000     0.000000        1.000000                  5.000000   \n",
       "25%     250.750000     0.000000        2.000000                 53.000000   \n",
       "50%     500.500000     0.000000        4.000000                107.000000   \n",
       "75%     750.250000     2.000000        8.000000                150.250000   \n",
       "max    1000.000000     2.000000       12.000000                200.000000   \n",
       "\n",
       "       assignee_avg_completion_days  \n",
       "count                   1000.000000  \n",
       "mean                       2.719380  \n",
       "std                        1.293874  \n",
       "min                        0.500000  \n",
       "25%                        1.570000  \n",
       "50%                        2.720000  \n",
       "75%                        3.820000  \n",
       "max                        4.990000  "
      ]
     },
     "execution_count": 34,
     "metadata": {},
     "output_type": "execute_result"
    }
   ],
   "source": [
    "df.describe()"
   ]
  },
  {
   "cell_type": "code",
   "execution_count": 37,
   "id": "73a2aaa6-870d-4208-b847-cc212932978c",
   "metadata": {},
   "outputs": [
    {
     "data": {
      "text/plain": [
       "task_id                         0\n",
       "title                           0\n",
       "description                     0\n",
       "created_at                      0\n",
       "due_date                        0\n",
       "creator                         0\n",
       "assignee                        0\n",
       "priority                        0\n",
       "workload_hours                  0\n",
       "assignee_completed_tasks        0\n",
       "assignee_avg_completion_days    0\n",
       "status                          0\n",
       "dtype: int64"
      ]
     },
     "execution_count": 37,
     "metadata": {},
     "output_type": "execute_result"
    }
   ],
   "source": [
    "df.isnull().sum()"
   ]
  },
  {
   "cell_type": "code",
   "execution_count": 38,
   "id": "553b0a37-0341-4934-8c6c-20cb6c753882",
   "metadata": {},
   "outputs": [],
   "source": [
    "# Derived features\n",
    "df['days_to_due'] = (df['due_date'] - df['created_at']).dt.days\n",
    "df['is_overdue'] = np.where((df['status'] != 'done') & (df['due_date'] < pd.Timestamp.now()), 1, 0)"
   ]
  },
  {
   "cell_type": "code",
   "execution_count": 39,
   "id": "b7dae7e1-cc14-45ca-bd63-df9ba81ea50a",
   "metadata": {},
   "outputs": [],
   "source": [
    "#EDA Plot\n",
    "plt.figure(figsize=(6,4))\n",
    "sns.countplot(x='priority', data=df)\n",
    "plt.title(\"Priority distribution\")\n",
    "plt.savefig(\"priority_dist.png\")\n",
    "plt.close()"
   ]
  },
  {
   "cell_type": "code",
   "execution_count": 55,
   "id": "7b854fad-a174-460f-818c-fb41002624f2",
   "metadata": {},
   "outputs": [],
   "source": [
    "plt.figure(figsize=(6,4))\n",
    "sns.histplot(df['workload_hours'], bins=10, kde=False)\n",
    "plt.title(\"Workload hours distribution\")\n",
    "plt.savefig(\"workload_dist.png\")\n",
    "plt.close()"
   ]
  },
  {
   "cell_type": "code",
   "execution_count": 40,
   "id": "da2ebee4-ffd5-44fa-b9b3-e869b9e59843",
   "metadata": {},
   "outputs": [
    {
     "name": "stdout",
     "output_type": "stream",
     "text": [
      "Correlation matrix:\n",
      "                               priority  workload_hours  \\\n",
      "priority                      1.000000        0.013532   \n",
      "workload_hours                0.013532        1.000000   \n",
      "assignee_completed_tasks      0.015789        0.053599   \n",
      "assignee_avg_completion_days  0.033813        0.012228   \n",
      "days_to_due                  -0.574874        0.011380   \n",
      "is_overdue                    0.094929        0.006601   \n",
      "\n",
      "                              assignee_completed_tasks  \\\n",
      "priority                                      0.015789   \n",
      "workload_hours                                0.053599   \n",
      "assignee_completed_tasks                      1.000000   \n",
      "assignee_avg_completion_days                 -0.003735   \n",
      "days_to_due                                  -0.012581   \n",
      "is_overdue                                    0.016839   \n",
      "\n",
      "                              assignee_avg_completion_days  days_to_due  \\\n",
      "priority                                          0.033813    -0.574874   \n",
      "workload_hours                                    0.012228     0.011380   \n",
      "assignee_completed_tasks                         -0.003735    -0.012581   \n",
      "assignee_avg_completion_days                      1.000000    -0.058774   \n",
      "days_to_due                                      -0.058774     1.000000   \n",
      "is_overdue                                        0.048891    -0.160774   \n",
      "\n",
      "                              is_overdue  \n",
      "priority                        0.094929  \n",
      "workload_hours                  0.006601  \n",
      "assignee_completed_tasks        0.016839  \n",
      "assignee_avg_completion_days    0.048891  \n",
      "days_to_due                    -0.160774  \n",
      "is_overdue                      1.000000  \n"
     ]
    }
   ],
   "source": [
    "# Correlation with numeric features\n",
    "num_cols = ['priority','workload_hours','assignee_completed_tasks','assignee_avg_completion_days','days_to_due','is_overdue']\n",
    "corr = df[num_cols].corr()\n",
    "print(\"Correlation matrix:\\n\", corr)\n"
   ]
  },
  {
   "cell_type": "code",
   "execution_count": 42,
   "id": "34d56ec0-ee9e-4561-a2dd-15cf13c8717b",
   "metadata": {},
   "outputs": [
    {
     "name": "stdout",
     "output_type": "stream",
     "text": [
      "Cleaned saved: (1000, 14)\n"
     ]
    }
   ],
   "source": [
    " #Save cleaned version for next steps (drop duplicates)\n",
    "df_clean = df.drop_duplicates(subset=['task_id']).reset_index(drop=True)\n",
    "df_clean.to_csv(\"tasks_cleaned.csv\", index=False)\n",
    "print(\"Cleaned saved:\", df_clean.shape)"
   ]
  },
  {
   "cell_type": "markdown",
   "id": "8008044c-8e7f-4ff3-a057-b781649184f9",
   "metadata": {},
   "source": [
    "### NLP preprocessing"
   ]
  },
  {
   "cell_type": "code",
   "execution_count": 48,
   "id": "1b628ca3-6253-42a3-bcd8-8b99235d59d4",
   "metadata": {},
   "outputs": [
    {
     "name": "stderr",
     "output_type": "stream",
     "text": [
      "[nltk_data] Downloading package punkt to\n",
      "[nltk_data]     C:\\Users\\nirap\\AppData\\Roaming\\nltk_data...\n",
      "[nltk_data]   Package punkt is already up-to-date!\n",
      "[nltk_data] Downloading package stopwords to\n",
      "[nltk_data]     C:\\Users\\nirap\\AppData\\Roaming\\nltk_data...\n",
      "[nltk_data]   Package stopwords is already up-to-date!\n",
      "[nltk_data] Downloading package wordnet to\n",
      "[nltk_data]     C:\\Users\\nirap\\AppData\\Roaming\\nltk_data...\n",
      "[nltk_data]   Package wordnet is already up-to-date!\n",
      "[nltk_data] Downloading package omw-1.4 to\n",
      "[nltk_data]     C:\\Users\\nirap\\AppData\\Roaming\\nltk_data...\n",
      "[nltk_data]   Package omw-1.4 is already up-to-date!\n"
     ]
    },
    {
     "data": {
      "text/plain": [
       "True"
      ]
     },
     "execution_count": 48,
     "metadata": {},
     "output_type": "execute_result"
    }
   ],
   "source": [
    "nltk.download('punkt')\n",
    "nltk.download('stopwords')\n",
    "nltk.download('wordnet')\n",
    "nltk.download('omw-1.4')"
   ]
  },
  {
   "cell_type": "code",
   "execution_count": 52,
   "id": "6a485e9e-c8c0-4692-be2c-c50299c4e6a5",
   "metadata": {},
   "outputs": [],
   "source": [
    "df = pd.read_csv(\"tasks_cleaned.csv\")\n",
    "ps = PorterStemmer()\n",
    "wn = WordNetLemmatizer()\n",
    "stop_words = set(stopwords.words('english'))"
   ]
  },
  {
   "cell_type": "code",
   "execution_count": 53,
   "id": "7184fddd-d756-43f4-85b8-b1722e3a94d8",
   "metadata": {},
   "outputs": [
    {
     "name": "stderr",
     "output_type": "stream",
     "text": [
      "[nltk_data] Downloading package punkt to\n",
      "[nltk_data]     C:\\Users\\nirap\\AppData\\Roaming\\nltk_data...\n",
      "[nltk_data]   Package punkt is already up-to-date!\n",
      "[nltk_data] Downloading package punkt_tab to\n",
      "[nltk_data]     C:\\Users\\nirap\\AppData\\Roaming\\nltk_data...\n",
      "[nltk_data]   Package punkt_tab is already up-to-date!\n"
     ]
    },
    {
     "data": {
      "text/plain": [
       "True"
      ]
     },
     "execution_count": 53,
     "metadata": {},
     "output_type": "execute_result"
    }
   ],
   "source": [
    "nltk.download('punkt')\n",
    "nltk.download('punkt_tab')"
   ]
  },
  {
   "cell_type": "code",
   "execution_count": 54,
   "id": "ba6c176b-5377-41bc-98ff-13e82661a866",
   "metadata": {},
   "outputs": [
    {
     "name": "stdout",
     "output_type": "stream",
     "text": [
      "Preprocessing done. Saved tasks_preprocessed.csv\n"
     ]
    }
   ],
   "source": [
    "def clean_text(text):\n",
    "    text = str(text).lower()\n",
    "    text = re.sub(r'http\\S+','', text)              \n",
    "    text = re.sub(r'[^a-z0-9\\s]',' ', text)     \n",
    "    text = re.sub(r'\\s+',' ', text).strip()\n",
    "    return text\n",
    "\n",
    "def preprocess(text):\n",
    "    t = clean_text(text)\n",
    "    tokens = word_tokenize(t)\n",
    "    tokens = [w for w in tokens if w not in stop_words and len(w)>1]\n",
    "    stems = [ps.stem(w) for w in tokens]\n",
    "    lemmas = [wn.lemmatize(w) for w in tokens]\n",
    "    return {\n",
    "        \"tokens\": tokens,\n",
    "        \"stems\": \" \".join(stems),\n",
    "        \"lemmas\": \" \".join(lemmas)\n",
    "    }\n",
    "\n",
    "# Apply preprocessing on description + title\n",
    "df['text_raw'] = df['title'] + \". \" + df['description']\n",
    "proc = df['text_raw'].apply(preprocess)\n",
    "df['tokens'] = proc.apply(lambda x: x['tokens'])\n",
    "df['stems'] = proc.apply(lambda x: x['stems'])\n",
    "df['lemmas'] = proc.apply(lambda x: x['lemmas'])\n",
    "\n",
    "df.to_csv(\"tasks_preprocessed.csv\", index=False)\n",
    "print(\"Preprocessing done. Saved tasks_preprocessed.csv\")"
   ]
  },
  {
   "cell_type": "code",
   "execution_count": null,
   "id": "51e7114c-d365-4c09-86d6-58647f7618c8",
   "metadata": {},
   "outputs": [],
   "source": []
  },
  {
   "cell_type": "code",
   "execution_count": null,
   "id": "04c5f5a9-69b1-46e5-aa23-7631c650f757",
   "metadata": {},
   "outputs": [],
   "source": []
  }
 ],
 "metadata": {
  "kernelspec": {
   "display_name": "Python 3 (ipykernel)",
   "language": "python",
   "name": "python3"
  },
  "language_info": {
   "codemirror_mode": {
    "name": "ipython",
    "version": 3
   },
   "file_extension": ".py",
   "mimetype": "text/x-python",
   "name": "python",
   "nbconvert_exporter": "python",
   "pygments_lexer": "ipython3",
   "version": "3.11.4"
  },
  "widgets": {
   "application/vnd.jupyter.widget-state+json": {
    "state": {},
    "version_major": 2,
    "version_minor": 0
   }
  }
 },
 "nbformat": 4,
 "nbformat_minor": 5
}
