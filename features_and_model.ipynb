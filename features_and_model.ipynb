{
 "cells": [
  {
   "cell_type": "code",
   "execution_count": 16,
   "id": "145bdb74-0631-451e-9c2f-779f8661b351",
   "metadata": {},
   "outputs": [
    {
     "name": "stdout",
     "output_type": "stream",
     "text": [
      "Shapes: (800, 358) (200, 358)\n",
      "✅ train_test_data.pkl created successfully!\n"
     ]
    }
   ],
   "source": [
    "import pandas as pd\n",
    "from sklearn.feature_extraction.text import TfidfVectorizer\n",
    "from gensim.models import Word2Vec\n",
    "import numpy as np\n",
    "from sklearn.model_selection import train_test_split\n",
    "\n",
    "df = pd.read_csv(\"tasks_preprocessed.csv\")\n",
    "# We'll use lemmas column for TF-IDF\n",
    "texts = df['lemmas'].fillna(\"\")\n",
    "\n",
    "# TF-IDF\n",
    "tfidf = TfidfVectorizer(max_features=3000, ngram_range=(1,2))\n",
    "X_tfidf = tfidf.fit_transform(texts)\n",
    "\n",
    "# Word2Vec (simple average of word vectors)\n",
    "sentences = [s.split() for s in texts]\n",
    "w2v_model = Word2Vec(sentences, vector_size=100, window=5, min_count=1, workers=2, epochs=20)\n",
    "\n",
    "def sentence_vector(sent):\n",
    "    vecs = []\n",
    "    for w in sent.split():\n",
    "        if w in w2v_model.wv:\n",
    "            vecs.append(w2v_model.wv[w])\n",
    "    if len(vecs)==0:\n",
    "        return np.zeros(w2v_model.vector_size)\n",
    "    return np.mean(vecs, axis=0)\n",
    "\n",
    "X_w2v = np.vstack([sentence_vector(s) for s in texts])\n",
    "\n",
    "# Combine TF-IDF and w2v (optional)\n",
    "from scipy.sparse import hstack\n",
    "# Convert w2v to sparse to hstack (or use numpy concatenate if not sparse)\n",
    "from scipy import sparse\n",
    "X_w2v_sparse = sparse.csr_matrix(X_w2v)\n",
    "X_combined = hstack([X_tfidf, X_w2v_sparse])\n",
    "\n",
    "# Labels\n",
    "y = df['priority']  # 0,1,2\n",
    "\n",
    "# Train-test split\n",
    "X_train, X_test, y_train, y_test = train_test_split(X_combined, y, test_size=0.2, random_state=42, stratify=y)\n",
    "\n",
    "print(\"Shapes:\", X_train.shape, X_test.shape)\n",
    "with open(\"train_test_data.pkl\", \"wb\") as f:\n",
    "    pickle.dump((X_train, X_test, y_train, y_test), f)\n",
    "\n",
    "print(\"✅ train_test_data.pkl created successfully!\")\n"
   ]
  },
  {
   "cell_type": "code",
   "execution_count": null,
   "id": "a30bc0ff-b439-475d-aaec-a56c039d38c5",
   "metadata": {},
   "outputs": [],
   "source": []
  },
  {
   "cell_type": "code",
   "execution_count": null,
   "id": "dcd9591b-6f6e-4d47-b6f8-f9bbc1c40b0b",
   "metadata": {},
   "outputs": [],
   "source": []
  },
  {
   "cell_type": "code",
   "execution_count": null,
   "id": "b3b957c1-b391-4c42-919a-706eb4b50dcf",
   "metadata": {},
   "outputs": [],
   "source": []
  }
 ],
 "metadata": {
  "kernelspec": {
   "display_name": "Python 3 (ipykernel)",
   "language": "python",
   "name": "python3"
  },
  "language_info": {
   "codemirror_mode": {
    "name": "ipython",
    "version": 3
   },
   "file_extension": ".py",
   "mimetype": "text/x-python",
   "name": "python",
   "nbconvert_exporter": "python",
   "pygments_lexer": "ipython3",
   "version": "3.11.4"
  },
  "widgets": {
   "application/vnd.jupyter.widget-state+json": {
    "state": {},
    "version_major": 2,
    "version_minor": 0
   }
  }
 },
 "nbformat": 4,
 "nbformat_minor": 5
}
