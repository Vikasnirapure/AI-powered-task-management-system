{
 "cells": [
  {
   "cell_type": "code",
   "execution_count": 10,
   "id": "145bdb74-0631-451e-9c2f-779f8661b351",
   "metadata": {},
   "outputs": [
    {
     "name": "stdout",
     "output_type": "stream",
     "text": [
      "Shapes: (800, 358) (200, 358)\n",
      "✅ train_test_data.pkl created successfully!\n"
     ]
    }
   ],
   "source": [
    "import pandas as pd\n",
    "from sklearn.feature_extraction.text import TfidfVectorizer\n",
    "from gensim.models import Word2Vec\n",
    "import numpy as np\n",
    "from sklearn.model_selection import train_test_split\n",
    "\n",
    "df = pd.read_csv(\"tasks_preprocessed.csv\")\n",
    "# We'll use lemmas column for TF-IDF\n",
    "texts = df['lemmas'].fillna(\"\")\n",
    "\n",
    "# TF-IDF\n",
    "tfidf = TfidfVectorizer(max_features=3000, ngram_range=(1,2))\n",
    "X_tfidf = tfidf.fit_transform(texts)\n",
    "\n",
    "# Word2Vec (simple average of word vectors)\n",
    "sentences = [s.split() for s in texts]\n",
    "w2v_model = Word2Vec(sentences, vector_size=100, window=5, min_count=1, workers=2, epochs=20)\n",
    "\n",
    "def sentence_vector(sent):\n",
    "    vecs = []\n",
    "    for w in sent.split():\n",
    "        if w in w2v_model.wv:\n",
    "            vecs.append(w2v_model.wv[w])\n",
    "    if len(vecs)==0:\n",
    "        return np.zeros(w2v_model.vector_size)\n",
    "    return np.mean(vecs, axis=0)\n",
    "\n",
    "X_w2v = np.vstack([sentence_vector(s) for s in texts])\n",
    "\n",
    "# Combine TF-IDF and w2v (optional)\n",
    "from scipy.sparse import hstack\n",
    "# Convert w2v to sparse to hstack (or use numpy concatenate if not sparse)\n",
    "from scipy import sparse\n",
    "X_w2v_sparse = sparse.csr_matrix(X_w2v)\n",
    "X_combined = hstack([X_tfidf, X_w2v_sparse])\n",
    "\n",
    "# Labels\n",
    "y = df['priority']  # 0,1,2\n",
    "\n",
    "# Train-test split\n",
    "X_train, X_test, y_train, y_test = train_test_split(X_combined, y, test_size=0.2, random_state=42, stratify=y)\n",
    "\n",
    "print(\"Shapes:\", X_train.shape, X_test.shape)\n",
    "with open(\"train_test_data.pkl\", \"wb\") as f:\n",
    "    pickle.dump((X_train, X_test, y_train, y_test), f)\n",
    "\n",
    "print(\"✅ train_test_data.pkl created successfully!\")\n"
   ]
  },
  {
   "cell_type": "code",
   "execution_count": 11,
   "id": "83b3aa9f-ebc6-4f13-9d23-a200ef5c35c7",
   "metadata": {},
   "outputs": [
    {
     "name": "stdout",
     "output_type": "stream",
     "text": [
      "Naive Bayes accuracy: 0.7416666666666667\n",
      "              precision    recall  f1-score   support\n",
      "\n",
      "           0       0.68      1.00      0.81       336\n",
      "           1       0.00      0.00      0.00        82\n",
      "           2       1.00      0.60      0.75       182\n",
      "\n",
      "    accuracy                           0.74       600\n",
      "   macro avg       0.56      0.53      0.52       600\n",
      "weighted avg       0.69      0.74      0.68       600\n",
      "\n",
      "SVM accuracy: 0.725\n",
      "              precision    recall  f1-score   support\n",
      "\n",
      "           0       0.69      0.96      0.80       336\n",
      "           1       0.07      0.01      0.02        82\n",
      "           2       0.97      0.62      0.75       182\n",
      "\n",
      "    accuracy                           0.73       600\n",
      "   macro avg       0.57      0.53      0.52       600\n",
      "weighted avg       0.69      0.72      0.68       600\n",
      "\n",
      "Models and vectorizer saved.\n"
     ]
    },
    {
     "name": "stderr",
     "output_type": "stream",
     "text": [
      "C:\\Users\\nirap\\AppData\\Local\\Programs\\Python\\Python311\\Lib\\site-packages\\sklearn\\metrics\\_classification.py:1471: UndefinedMetricWarning: Precision and F-score are ill-defined and being set to 0.0 in labels with no predicted samples. Use `zero_division` parameter to control this behavior.\n",
      "  _warn_prf(average, modifier, msg_start, len(result))\n",
      "C:\\Users\\nirap\\AppData\\Local\\Programs\\Python\\Python311\\Lib\\site-packages\\sklearn\\metrics\\_classification.py:1471: UndefinedMetricWarning: Precision and F-score are ill-defined and being set to 0.0 in labels with no predicted samples. Use `zero_division` parameter to control this behavior.\n",
      "  _warn_prf(average, modifier, msg_start, len(result))\n",
      "C:\\Users\\nirap\\AppData\\Local\\Programs\\Python\\Python311\\Lib\\site-packages\\sklearn\\metrics\\_classification.py:1471: UndefinedMetricWarning: Precision and F-score are ill-defined and being set to 0.0 in labels with no predicted samples. Use `zero_division` parameter to control this behavior.\n",
      "  _warn_prf(average, modifier, msg_start, len(result))\n",
      "C:\\Users\\nirap\\AppData\\Local\\Programs\\Python\\Python311\\Lib\\site-packages\\sklearn\\svm\\_classes.py:32: FutureWarning: The default value of `dual` will change from `True` to `'auto'` in 1.5. Set the value of `dual` explicitly to suppress the warning.\n",
      "  warnings.warn(\n"
     ]
    }
   ],
   "source": [
    "# file: train_classifiers.py\n",
    "import pandas as pd\n",
    "from sklearn.naive_bayes import MultinomialNB\n",
    "from sklearn.svm import LinearSVC\n",
    "from sklearn.metrics import accuracy_score, precision_recall_fscore_support, classification_report, confusion_matrix\n",
    "from joblib import dump, load\n",
    "from sklearn.model_selection import GridSearchCV\n",
    "\n",
    "# Load prepared X_train, X_test, y_train, y_test from previous step\n",
    "import pickle\n",
    "with open(\"train_test_data.pkl\",\"rb\") as f:\n",
    "    X_train, X_test, y_train, y_test = pickle.load(f)\n",
    "\n",
    "# Naive Bayes (note: MultinomialNB expects non-negative inputs - works with TF-IDF part)\n",
    "# If using combined features with negative values, better to use other models. Here we make a TF-IDF-only example.\n",
    "from sklearn.feature_extraction.text import TfidfVectorizer\n",
    "df = pd.read_csv(\"tasks_preprocessed.csv\")\n",
    "texts = df['lemmas'].fillna(\"\")\n",
    "tfidf = TfidfVectorizer(max_features=3000, ngram_range=(1,2))\n",
    "X_tfidf_full = tfidf.fit_transform(texts)\n",
    "y_full = df['priority']\n",
    "Xtr, Xte, ytr, yte = X_tfidf_full[:400], X_tfidf_full[400:], y_full[:400], y_full[400:]\n",
    "\n",
    "mnb = MultinomialNB()\n",
    "mnb.fit(Xtr, ytr)\n",
    "pred_nb = mnb.predict(Xte)\n",
    "print(\"Naive Bayes accuracy:\", accuracy_score(yte, pred_nb))\n",
    "print(classification_report(yte, pred_nb))\n",
    "\n",
    "# SVM (Linear)\n",
    "svm = LinearSVC(random_state=42, max_iter=10000)\n",
    "svm.fit(Xtr, ytr)\n",
    "pred_svm = svm.predict(Xte)\n",
    "print(\"SVM accuracy:\", accuracy_score(yte, pred_svm))\n",
    "print(classification_report(yte, pred_svm))\n",
    "\n",
    "# Save models\n",
    "dump(mnb, \"model_mnb.joblib\")\n",
    "dump(svm, \"model_svm.joblib\")\n",
    "dump(tfidf, \"tfidf_vectorizer.joblib\")\n",
    "print(\"Models and vectorizer saved.\")\n"
   ]
  },
  {
   "cell_type": "code",
   "execution_count": null,
   "id": "a30bc0ff-b439-475d-aaec-a56c039d38c5",
   "metadata": {},
   "outputs": [],
   "source": []
  }
 ],
 "metadata": {
  "kernelspec": {
   "display_name": "Python 3 (ipykernel)",
   "language": "python",
   "name": "python3"
  },
  "language_info": {
   "codemirror_mode": {
    "name": "ipython",
    "version": 3
   },
   "file_extension": ".py",
   "mimetype": "text/x-python",
   "name": "python",
   "nbconvert_exporter": "python",
   "pygments_lexer": "ipython3",
   "version": "3.11.4"
  },
  "widgets": {
   "application/vnd.jupyter.widget-state+json": {
    "state": {},
    "version_major": 2,
    "version_minor": 0
   }
  }
 },
 "nbformat": 4,
 "nbformat_minor": 5
}
