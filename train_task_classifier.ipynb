{
 "cells": [
  {
   "cell_type": "code",
   "execution_count": 2,
   "id": "cccec7e1-aba4-4d27-b7c8-f64a0359ff79",
   "metadata": {},
   "outputs": [
    {
     "name": "stdout",
     "output_type": "stream",
     "text": [
      "Task Classifier Accuracy: 0.73\n",
      "              precision    recall  f1-score   support\n",
      "\n",
      "           0       0.70      0.97      0.81       116\n",
      "           1       0.50      0.04      0.08        24\n",
      "           2       0.89      0.53      0.67        60\n",
      "\n",
      "    accuracy                           0.73       200\n",
      "   macro avg       0.70      0.52      0.52       200\n",
      "weighted avg       0.73      0.73      0.68       200\n",
      "\n",
      "✅ SVM model & vectorizer saved successfully.\n"
     ]
    },
    {
     "name": "stderr",
     "output_type": "stream",
     "text": [
      "C:\\Users\\nirap\\AppData\\Local\\Programs\\Python\\Python311\\Lib\\site-packages\\sklearn\\svm\\_classes.py:32: FutureWarning: The default value of `dual` will change from `True` to `'auto'` in 1.5. Set the value of `dual` explicitly to suppress the warning.\n",
      "  warnings.warn(\n"
     ]
    }
   ],
   "source": [
    "import pandas as pd\n",
    "from sklearn.feature_extraction.text import TfidfVectorizer\n",
    "from sklearn.svm import LinearSVC\n",
    "from sklearn.metrics import classification_report, accuracy_score\n",
    "from sklearn.model_selection import train_test_split\n",
    "from joblib import dump\n",
    "\n",
    "# Load data\n",
    "df = pd.read_csv(\"tasks_preprocessed.csv\")\n",
    "\n",
    "# Combine text\n",
    "texts = df[\"lemmas\"].fillna(\"\")\n",
    "\n",
    "# ✅ TF-IDF for SVM model (can be different feature size)\n",
    "tfidf_svm = TfidfVectorizer(max_features=3000, ngram_range=(1, 2))\n",
    "X_text = tfidf_svm.fit_transform(texts)\n",
    "\n",
    "# Target variable (you can change this column)\n",
    "y = df[\"priority\"]  # e.g., Bug, Feature, Improvement\n",
    "\n",
    "# Split\n",
    "X_train, X_test, y_train, y_test = train_test_split(X_text, y, test_size=0.2, random_state=42)\n",
    "\n",
    "# Train SVM\n",
    "svm = LinearSVC(random_state=42, max_iter=10000)\n",
    "svm.fit(X_train, y_train)\n",
    "\n",
    "# Evaluate\n",
    "preds = svm.predict(X_test)\n",
    "print(\"Task Classifier Accuracy:\", accuracy_score(y_test, preds))\n",
    "print(classification_report(y_test, preds))\n",
    "\n",
    "# Save model + vectorizer\n",
    "dump(svm, \"model_svm.joblib\")\n",
    "dump(tfidf_svm, \"tfidf_vectorizer_svm.joblib\")\n",
    "print(\"✅ SVM model & vectorizer saved successfully.\")\n"
   ]
  },
  {
   "cell_type": "code",
   "execution_count": null,
   "id": "3ebf7897-c0e2-4653-a75b-ad703afa8461",
   "metadata": {},
   "outputs": [],
   "source": []
  }
 ],
 "metadata": {
  "kernelspec": {
   "display_name": "Python 3 (ipykernel)",
   "language": "python",
   "name": "python3"
  },
  "language_info": {
   "codemirror_mode": {
    "name": "ipython",
    "version": 3
   },
   "file_extension": ".py",
   "mimetype": "text/x-python",
   "name": "python",
   "nbconvert_exporter": "python",
   "pygments_lexer": "ipython3",
   "version": "3.11.4"
  },
  "widgets": {
   "application/vnd.jupyter.widget-state+json": {
    "state": {},
    "version_major": 2,
    "version_minor": 0
   }
  }
 },
 "nbformat": 4,
 "nbformat_minor": 5
}
